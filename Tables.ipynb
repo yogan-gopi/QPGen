{
 "cells": [
  {
   "cell_type": "code",
   "execution_count": 1,
   "id": "c24d4e1c",
   "metadata": {},
   "outputs": [],
   "source": [
    "from docx import Document"
   ]
  },
  {
   "cell_type": "code",
   "execution_count": 2,
   "id": "afc0b333",
   "metadata": {},
   "outputs": [],
   "source": [
    "document = Document('TimeTable.docx')"
   ]
  },
  {
   "cell_type": "code",
   "execution_count": 3,
   "id": "6d3cc466",
   "metadata": {},
   "outputs": [
    {
     "data": {
      "text/plain": [
       "<docx.document.Document at 0x19bea44d800>"
      ]
     },
     "execution_count": 3,
     "metadata": {},
     "output_type": "execute_result"
    }
   ],
   "source": [
    "document"
   ]
  },
  {
   "cell_type": "code",
   "execution_count": 4,
   "id": "f22c0f51",
   "metadata": {},
   "outputs": [
    {
     "name": "stdout",
     "output_type": "stream",
     "text": [
      "S.No\n",
      "Date\n",
      "CIVIL\n",
      "CSE\n",
      "IT\n",
      "EEE\n",
      "ECE\n",
      "BME\n",
      "MECH\n",
      "AIDS\n",
      "CSBS\n",
      "MCT\n",
      "1\n",
      "09-05-22\n",
      "CTEP\n",
      "CA\n",
      "CA\n",
      "LIC \n",
      "EMF\n",
      "MP\n",
      "MT- II\n",
      "-\n",
      "-\n",
      "-\n",
      "2\n",
      "10-05-22\n",
      "AHE\n",
      "DBMS\n",
      "DBMS\n",
      "MI\n",
      "CT \n",
      "DS\n",
      "EM\n",
      "DA\n",
      "IBS\n",
      "MPMC\n",
      "3\n",
      "11-05-22\n",
      "CT\n",
      "OS\n",
      "OS\n",
      "TD\n",
      "LIC\n",
      "LIC\n",
      "SNM\n",
      "AI – I\n",
      "OS\n",
      "SNM\n",
      "4\n",
      "12-05-22\n",
      "SM\n",
      "DAA\n",
      "DAA\n",
      "CS\n",
      "EC – II\n",
      "DE\n",
      "SOM\n",
      "DBDM\n",
      "CS\n",
      "TDHT\n",
      "5\n",
      "13-05-22\n",
      "SOM\n",
      "SE\n",
      "EVS\n",
      "EM – II\n",
      "EVS\n",
      "BEE\n",
      "TE – I\n",
      "SDP\n",
      "SE\n",
      "MT\n",
      "6\n",
      "14-05-22\n",
      "NM\n",
      "PQT\n",
      "PS\n",
      "NM\n",
      "PRP\n",
      "PS\n",
      "KOM\n",
      "PS\n",
      "PS\n",
      "KOM\n"
     ]
    }
   ],
   "source": [
    "for table in document.tables:\n",
    "    for row in table.rows:\n",
    "        for cell in row.cells:\n",
    "            print(cell.text)"
   ]
  },
  {
   "cell_type": "code",
   "execution_count": 69,
   "id": "bf561ac7",
   "metadata": {},
   "outputs": [
    {
     "name": "stdout",
     "output_type": "stream",
     "text": [
      "12-05-22\n",
      "12-05-22\n"
     ]
    }
   ],
   "source": [
    "table = document.tables[0]\n",
    "for j in range(2, 12):\n",
    "    for i in range(1, 7):\n",
    "        if table.cell(i,j).text == \"DAA\":\n",
    "            print(table.cell(i,1).text)\n",
    "            \n",
    "        \n",
    "        #print(table.cell(i, 1).text)\n",
    "\n"
   ]
  },
  {
   "cell_type": "code",
   "execution_count": 95,
   "id": "183cbaee",
   "metadata": {},
   "outputs": [],
   "source": [
    "class Gather:\n",
    "    code = {\"CS8451\":\"DAA\", \"MA8402\":\"PQT\"}\n",
    "    def __init__(self, subject, timetable):\n",
    "        self.subject = subject\n",
    "        self.timetable = timetable\n",
    "        self.tt = Document(self.timetable)\n",
    "    \n",
    "    def getDate(self):\n",
    "        table = self.tt.tables[0]\n",
    "        for j in range(2,12):\n",
    "            for i in range(1,7):\n",
    "                if table.cell(i,j).text == Gather.code[self.subject]:\n",
    "                    self.date = table.cell(i,1).text\n",
    "        return self.date"
   ]
  },
  {
   "cell_type": "code",
   "execution_count": 98,
   "id": "a417d220",
   "metadata": {},
   "outputs": [],
   "source": [
    "daa = Gather(\"CS8451\", \"TimeTable.docx\")"
   ]
  },
  {
   "cell_type": "code",
   "execution_count": 99,
   "id": "e55258a5",
   "metadata": {},
   "outputs": [
    {
     "name": "stdout",
     "output_type": "stream",
     "text": [
      "12-05-22\n"
     ]
    }
   ],
   "source": [
    "print(daa.getDate())"
   ]
  },
  {
   "cell_type": "code",
   "execution_count": 100,
   "id": "16739e96",
   "metadata": {},
   "outputs": [],
   "source": [
    "pqt = Gather(\"MA8402\", \"TimeTable.docx\")"
   ]
  },
  {
   "cell_type": "code",
   "execution_count": 101,
   "id": "b6a4cd71",
   "metadata": {},
   "outputs": [
    {
     "name": "stdout",
     "output_type": "stream",
     "text": [
      "14-05-22\n"
     ]
    }
   ],
   "source": [
    "print(pqt.getDate())"
   ]
  },
  {
   "cell_type": "code",
   "execution_count": null,
   "id": "fd77310b",
   "metadata": {},
   "outputs": [],
   "source": []
  }
 ],
 "metadata": {
  "kernelspec": {
   "display_name": "QPGEN",
   "language": "python",
   "name": "qpgen"
  },
  "language_info": {
   "codemirror_mode": {
    "name": "ipython",
    "version": 3
   },
   "file_extension": ".py",
   "mimetype": "text/x-python",
   "name": "python",
   "nbconvert_exporter": "python",
   "pygments_lexer": "ipython3",
   "version": "3.9.11"
  }
 },
 "nbformat": 4,
 "nbformat_minor": 5
}
